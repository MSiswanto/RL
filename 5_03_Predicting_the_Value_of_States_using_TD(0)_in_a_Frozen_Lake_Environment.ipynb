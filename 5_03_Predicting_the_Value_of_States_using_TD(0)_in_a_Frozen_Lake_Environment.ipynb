{
  "cells": [
    {
      "cell_type": "markdown",
      "metadata": {
        "id": "view-in-github",
        "colab_type": "text"
      },
      "source": [
        "<a href=\"https://colab.research.google.com/github/MSiswanto/RL/blob/main/5_03_Predicting_the_Value_of_States_using_TD(0)_in_a_Frozen_Lake_Environment.ipynb\" target=\"_parent\"><img src=\"https://colab.research.google.com/assets/colab-badge.svg\" alt=\"Open In Colab\"/></a>"
      ]
    },
    {
      "cell_type": "markdown",
      "metadata": {
        "id": "0ntLI5-Qae1s"
      },
      "source": [
        "# Predicting the value of states in a frozen lake environment\n",
        "We learned that in the prediction method, the policy is given as an input and we predict\n",
        "value function using the given policy. So let's initialize a random policy and predict the\n",
        "value function (state values) of the frozen lake environment using the random policy.\n",
        "\n",
        "First, let's import the necessary libraries:"
      ]
    },
    {
      "cell_type": "code",
      "execution_count": null,
      "metadata": {
        "id": "rtQpupx8ae12"
      },
      "outputs": [],
      "source": [
        "import gym\n",
        "import pandas as pd"
      ]
    },
    {
      "cell_type": "markdown",
      "metadata": {
        "id": "UBXOCBwPae12"
      },
      "source": [
        "Now, we create the frozen lake environment using gym:"
      ]
    },
    {
      "cell_type": "code",
      "execution_count": null,
      "metadata": {
        "colab": {
          "base_uri": "https://localhost:8080/"
        },
        "id": "g3VdggYKae13",
        "outputId": "107684be-1942-49c6-aba9-ede9eb42a175"
      },
      "outputs": [
        {
          "output_type": "stream",
          "name": "stderr",
          "text": [
            "/usr/local/lib/python3.7/dist-packages/gym/core.py:318: DeprecationWarning: \u001b[33mWARN: Initializing wrapper in old step API which returns one bool instead of two. It is recommended to set `new_step_api=True` to use new step API. This will be the default behaviour in future.\u001b[0m\n",
            "  \"Initializing wrapper in old step API which returns one bool instead of two. It is recommended to set `new_step_api=True` to use new step API. This will be the default behaviour in future.\"\n",
            "/usr/local/lib/python3.7/dist-packages/gym/wrappers/step_api_compatibility.py:40: DeprecationWarning: \u001b[33mWARN: Initializing environment in old step API which returns one bool instead of two. It is recommended to set `new_step_api=True` to use new step API. This will be the default behaviour in future.\u001b[0m\n",
            "  \"Initializing environment in old step API which returns one bool instead of two. It is recommended to set `new_step_api=True` to use new step API. This will be the default behaviour in future.\"\n"
          ]
        }
      ],
      "source": [
        "env = gym.make('FrozenLake-v1')"
      ]
    },
    {
      "cell_type": "markdown",
      "metadata": {
        "collapsed": true,
        "scrolled": true,
        "id": "bh6nyk1qae13"
      },
      "source": [
        "Define the random policy which returns the random action by sampling from the action\n",
        "space:"
      ]
    },
    {
      "cell_type": "code",
      "execution_count": null,
      "metadata": {
        "id": "mLdT8qH3ae13"
      },
      "outputs": [],
      "source": [
        "def random_policy():\n",
        "    return env.action_space.sample()"
      ]
    },
    {
      "cell_type": "markdown",
      "metadata": {
        "id": "YprdSz_Pae13"
      },
      "source": [
        "Let's define the dictionary for storing the value of states and we initialize the value of all the\n",
        "states to 0.0:"
      ]
    },
    {
      "cell_type": "code",
      "execution_count": null,
      "metadata": {
        "id": "r842IatGae14"
      },
      "outputs": [],
      "source": [
        "V = {}\n",
        "for s in range(env.observation_space.n):\n",
        "    V[s] = 0.0"
      ]
    },
    {
      "cell_type": "markdown",
      "metadata": {
        "id": "hHQDvOvPae14"
      },
      "source": [
        "Initialize the discount factor $\\gamma$ and the learning rate $\\alpha$: "
      ]
    },
    {
      "cell_type": "code",
      "execution_count": null,
      "metadata": {
        "id": "tkPTIJLnae14"
      },
      "outputs": [],
      "source": [
        "alpha = 0.85\n",
        "gamma = 0.90"
      ]
    },
    {
      "cell_type": "markdown",
      "metadata": {
        "id": "c8GgLhAsae14"
      },
      "source": [
        "Define the number of episodes and number of time steps in the episode:"
      ]
    },
    {
      "cell_type": "code",
      "execution_count": null,
      "metadata": {
        "id": "Yg-wxWQ3ae14"
      },
      "outputs": [],
      "source": [
        "num_episodes = 5000\n",
        "num_timesteps = 1000"
      ]
    },
    {
      "cell_type": "markdown",
      "metadata": {
        "id": "DXODEwcRae15"
      },
      "source": [
        "## Computing the value of states\n",
        "Now, let's compute the value function (state values) using the given random policy as:\n",
        "\n",
        "$$V(s) = V(s) + \\alpha (r + \\gamma V(s') - V(s)) $$"
      ]
    },
    {
      "cell_type": "code",
      "execution_count": null,
      "metadata": {
        "id": "CTt5-6ZMae15"
      },
      "outputs": [],
      "source": [
        "#for each episode\n",
        "for i in range(num_episodes):\n",
        "    \n",
        "    #initialize the state by resetting the environment\n",
        "    s = env.reset()\n",
        "    \n",
        "    #for every step in the episode\n",
        "    for t in range(num_timesteps):\n",
        "        \n",
        "        #select an action according to random policy\n",
        "        a = random_policy()\n",
        "        \n",
        "        #perform the selected action and store the next state information\n",
        "        s_, r, done, _ = env.step(a)\n",
        "        \n",
        "        #compute the value of the state\n",
        "        V[s] += alpha * (r + gamma * V[s_]-V[s])\n",
        "        \n",
        "        #update next state to the current state\n",
        "        s = s_\n",
        "        \n",
        "        #if the current state is the terminal state then break\n",
        "        if done:\n",
        "            break"
      ]
    },
    {
      "cell_type": "markdown",
      "metadata": {
        "id": "kXQJNOrVae16"
      },
      "source": [
        "After all the iterations, we will have a value of all the states according to the given random\n",
        "policy. \n",
        "\n",
        "## Evaluating the value of states \n",
        "\n",
        "Now, let's evaluate our value function (state values). First, let's convert our value dictionary\n",
        "to a pandas data frame for more clarity:"
      ]
    },
    {
      "cell_type": "code",
      "execution_count": null,
      "metadata": {
        "id": "4SrWdrjRae16"
      },
      "outputs": [],
      "source": [
        "df = pd.DataFrame(list(V.items()), columns=['state', 'value'])"
      ]
    },
    {
      "cell_type": "markdown",
      "metadata": {
        "id": "a8uKwOuSae16"
      },
      "source": [
        "Before checking the value of the states, let's recollect that in the gym all the states in the\n",
        "frozen lake environment will be encoded into numbers. Since we have 16 states, all the\n",
        "states will be encoded into numbers from 0 to 15 as shown below:"
      ]
    },
    {
      "cell_type": "markdown",
      "metadata": {
        "collapsed": true,
        "id": "gA_fMIcMae16"
      },
      "source": [
        "![title](Images/1.png)"
      ]
    },
    {
      "cell_type": "markdown",
      "metadata": {
        "collapsed": true,
        "id": "7TetUwBZae17"
      },
      "source": [
        "Now, Let's check the value of the states:"
      ]
    },
    {
      "cell_type": "code",
      "execution_count": null,
      "metadata": {
        "colab": {
          "base_uri": "https://localhost:8080/",
          "height": 551
        },
        "id": "8BiZGmrqae17",
        "outputId": "52c966f1-0408-44f4-e76a-c9af00dd994a"
      },
      "outputs": [
        {
          "output_type": "execute_result",
          "data": {
            "text/plain": [
              "    state     value\n",
              "0       0  0.000262\n",
              "1       1  0.015199\n",
              "2       2  0.002004\n",
              "3       3  0.000100\n",
              "4       4  0.001991\n",
              "5       5  0.000000\n",
              "6       6  0.007678\n",
              "7       7  0.000000\n",
              "8       8  0.002771\n",
              "9       9  0.085223\n",
              "10     10  0.318186\n",
              "11     11  0.000000\n",
              "12     12  0.000000\n",
              "13     13  0.111778\n",
              "14     14  0.682525\n",
              "15     15  0.000000"
            ],
            "text/html": [
              "\n",
              "  <div id=\"df-6c291eab-2ba0-4539-88dd-65c6c8d63819\">\n",
              "    <div class=\"colab-df-container\">\n",
              "      <div>\n",
              "<style scoped>\n",
              "    .dataframe tbody tr th:only-of-type {\n",
              "        vertical-align: middle;\n",
              "    }\n",
              "\n",
              "    .dataframe tbody tr th {\n",
              "        vertical-align: top;\n",
              "    }\n",
              "\n",
              "    .dataframe thead th {\n",
              "        text-align: right;\n",
              "    }\n",
              "</style>\n",
              "<table border=\"1\" class=\"dataframe\">\n",
              "  <thead>\n",
              "    <tr style=\"text-align: right;\">\n",
              "      <th></th>\n",
              "      <th>state</th>\n",
              "      <th>value</th>\n",
              "    </tr>\n",
              "  </thead>\n",
              "  <tbody>\n",
              "    <tr>\n",
              "      <th>0</th>\n",
              "      <td>0</td>\n",
              "      <td>0.000262</td>\n",
              "    </tr>\n",
              "    <tr>\n",
              "      <th>1</th>\n",
              "      <td>1</td>\n",
              "      <td>0.015199</td>\n",
              "    </tr>\n",
              "    <tr>\n",
              "      <th>2</th>\n",
              "      <td>2</td>\n",
              "      <td>0.002004</td>\n",
              "    </tr>\n",
              "    <tr>\n",
              "      <th>3</th>\n",
              "      <td>3</td>\n",
              "      <td>0.000100</td>\n",
              "    </tr>\n",
              "    <tr>\n",
              "      <th>4</th>\n",
              "      <td>4</td>\n",
              "      <td>0.001991</td>\n",
              "    </tr>\n",
              "    <tr>\n",
              "      <th>5</th>\n",
              "      <td>5</td>\n",
              "      <td>0.000000</td>\n",
              "    </tr>\n",
              "    <tr>\n",
              "      <th>6</th>\n",
              "      <td>6</td>\n",
              "      <td>0.007678</td>\n",
              "    </tr>\n",
              "    <tr>\n",
              "      <th>7</th>\n",
              "      <td>7</td>\n",
              "      <td>0.000000</td>\n",
              "    </tr>\n",
              "    <tr>\n",
              "      <th>8</th>\n",
              "      <td>8</td>\n",
              "      <td>0.002771</td>\n",
              "    </tr>\n",
              "    <tr>\n",
              "      <th>9</th>\n",
              "      <td>9</td>\n",
              "      <td>0.085223</td>\n",
              "    </tr>\n",
              "    <tr>\n",
              "      <th>10</th>\n",
              "      <td>10</td>\n",
              "      <td>0.318186</td>\n",
              "    </tr>\n",
              "    <tr>\n",
              "      <th>11</th>\n",
              "      <td>11</td>\n",
              "      <td>0.000000</td>\n",
              "    </tr>\n",
              "    <tr>\n",
              "      <th>12</th>\n",
              "      <td>12</td>\n",
              "      <td>0.000000</td>\n",
              "    </tr>\n",
              "    <tr>\n",
              "      <th>13</th>\n",
              "      <td>13</td>\n",
              "      <td>0.111778</td>\n",
              "    </tr>\n",
              "    <tr>\n",
              "      <th>14</th>\n",
              "      <td>14</td>\n",
              "      <td>0.682525</td>\n",
              "    </tr>\n",
              "    <tr>\n",
              "      <th>15</th>\n",
              "      <td>15</td>\n",
              "      <td>0.000000</td>\n",
              "    </tr>\n",
              "  </tbody>\n",
              "</table>\n",
              "</div>\n",
              "      <button class=\"colab-df-convert\" onclick=\"convertToInteractive('df-6c291eab-2ba0-4539-88dd-65c6c8d63819')\"\n",
              "              title=\"Convert this dataframe to an interactive table.\"\n",
              "              style=\"display:none;\">\n",
              "        \n",
              "  <svg xmlns=\"http://www.w3.org/2000/svg\" height=\"24px\"viewBox=\"0 0 24 24\"\n",
              "       width=\"24px\">\n",
              "    <path d=\"M0 0h24v24H0V0z\" fill=\"none\"/>\n",
              "    <path d=\"M18.56 5.44l.94 2.06.94-2.06 2.06-.94-2.06-.94-.94-2.06-.94 2.06-2.06.94zm-11 1L8.5 8.5l.94-2.06 2.06-.94-2.06-.94L8.5 2.5l-.94 2.06-2.06.94zm10 10l.94 2.06.94-2.06 2.06-.94-2.06-.94-.94-2.06-.94 2.06-2.06.94z\"/><path d=\"M17.41 7.96l-1.37-1.37c-.4-.4-.92-.59-1.43-.59-.52 0-1.04.2-1.43.59L10.3 9.45l-7.72 7.72c-.78.78-.78 2.05 0 2.83L4 21.41c.39.39.9.59 1.41.59.51 0 1.02-.2 1.41-.59l7.78-7.78 2.81-2.81c.8-.78.8-2.07 0-2.86zM5.41 20L4 18.59l7.72-7.72 1.47 1.35L5.41 20z\"/>\n",
              "  </svg>\n",
              "      </button>\n",
              "      \n",
              "  <style>\n",
              "    .colab-df-container {\n",
              "      display:flex;\n",
              "      flex-wrap:wrap;\n",
              "      gap: 12px;\n",
              "    }\n",
              "\n",
              "    .colab-df-convert {\n",
              "      background-color: #E8F0FE;\n",
              "      border: none;\n",
              "      border-radius: 50%;\n",
              "      cursor: pointer;\n",
              "      display: none;\n",
              "      fill: #1967D2;\n",
              "      height: 32px;\n",
              "      padding: 0 0 0 0;\n",
              "      width: 32px;\n",
              "    }\n",
              "\n",
              "    .colab-df-convert:hover {\n",
              "      background-color: #E2EBFA;\n",
              "      box-shadow: 0px 1px 2px rgba(60, 64, 67, 0.3), 0px 1px 3px 1px rgba(60, 64, 67, 0.15);\n",
              "      fill: #174EA6;\n",
              "    }\n",
              "\n",
              "    [theme=dark] .colab-df-convert {\n",
              "      background-color: #3B4455;\n",
              "      fill: #D2E3FC;\n",
              "    }\n",
              "\n",
              "    [theme=dark] .colab-df-convert:hover {\n",
              "      background-color: #434B5C;\n",
              "      box-shadow: 0px 1px 3px 1px rgba(0, 0, 0, 0.15);\n",
              "      filter: drop-shadow(0px 1px 2px rgba(0, 0, 0, 0.3));\n",
              "      fill: #FFFFFF;\n",
              "    }\n",
              "  </style>\n",
              "\n",
              "      <script>\n",
              "        const buttonEl =\n",
              "          document.querySelector('#df-6c291eab-2ba0-4539-88dd-65c6c8d63819 button.colab-df-convert');\n",
              "        buttonEl.style.display =\n",
              "          google.colab.kernel.accessAllowed ? 'block' : 'none';\n",
              "\n",
              "        async function convertToInteractive(key) {\n",
              "          const element = document.querySelector('#df-6c291eab-2ba0-4539-88dd-65c6c8d63819');\n",
              "          const dataTable =\n",
              "            await google.colab.kernel.invokeFunction('convertToInteractive',\n",
              "                                                     [key], {});\n",
              "          if (!dataTable) return;\n",
              "\n",
              "          const docLinkHtml = 'Like what you see? Visit the ' +\n",
              "            '<a target=\"_blank\" href=https://colab.research.google.com/notebooks/data_table.ipynb>data table notebook</a>'\n",
              "            + ' to learn more about interactive tables.';\n",
              "          element.innerHTML = '';\n",
              "          dataTable['output_type'] = 'display_data';\n",
              "          await google.colab.output.renderOutput(dataTable, element);\n",
              "          const docLink = document.createElement('div');\n",
              "          docLink.innerHTML = docLinkHtml;\n",
              "          element.appendChild(docLink);\n",
              "        }\n",
              "      </script>\n",
              "    </div>\n",
              "  </div>\n",
              "  "
            ]
          },
          "metadata": {},
          "execution_count": 9
        }
      ],
      "source": [
        "df"
      ]
    },
    {
      "cell_type": "markdown",
      "metadata": {
        "collapsed": true,
        "id": "oKftI_fwae18"
      },
      "source": [
        "As we can observe, now we have the value of all the states and also we can notice that\n",
        "the value of all the terminal states (hole states and goal state) is zero.\n",
        "\n",
        "Now that we have understood how TD learning can be used for the prediction task, in the\n",
        "next section, we will learn how to use TD learning for the control task. "
      ]
    },
    {
      "cell_type": "code",
      "execution_count": null,
      "metadata": {
        "id": "YMKfVN2Fae18"
      },
      "outputs": [],
      "source": []
    }
  ],
  "metadata": {
    "kernelspec": {
      "display_name": "Python 3 (ipykernel)",
      "language": "python",
      "name": "python3"
    },
    "language_info": {
      "codemirror_mode": {
        "name": "ipython",
        "version": 3
      },
      "file_extension": ".py",
      "mimetype": "text/x-python",
      "name": "python",
      "nbconvert_exporter": "python",
      "pygments_lexer": "ipython3",
      "version": "3.8.5"
    },
    "colab": {
      "provenance": [],
      "include_colab_link": true
    }
  },
  "nbformat": 4,
  "nbformat_minor": 0
}